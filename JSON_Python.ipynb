{
 "cells": [
  {
   "cell_type": "markdown",
   "metadata": {},
   "source": [
    "# Convert to Dataframe & Parse: JSON object using Python\n",
    "\n",
    "**<font color=red>Mr Fugu Data Science</font>** \n",
    "\n",
    "# (◕‿◕✿)\n",
    "\n",
    "[Github](https://github.com/MrFuguDataScience) | [Youtube](https://www.youtube.com/channel/UCbni-TDI-Ub8VlGaP8HLTNw/)\n",
    "\n",
    "# Purpose & Outcome:\n",
    "\n",
    "+ Convert Nested JSON into Dataframe ( `Four` *different ways* )\n",
    "\n",
    "+ Adjust Nested Function to Take more parameters ( *such as new data* )\n",
    "    + *1<sup>st</sup>* : Create **`New Nesting`** Entries Inside Our Function\n",
    "    + *2<sup>nd</sup>* : **`NONE Nested`** New Entries\n",
    "    \n",
    "+ Last: Discuss, timing these opeartions and show an example\n",
    "    \n",
    "\n",
    "`____________________________________________`\n"
   ]
  },
  {
   "cell_type": "code",
   "execution_count": 11,
   "metadata": {},
   "outputs": [],
   "source": [
    "import json\n",
    "import pandas as pd\n",
    "import time\n",
    "from faker import Factory,Faker # Create fake data\n",
    "import numpy as np\n",
    "# from pandas.io.json import pandas.json_normalize "
   ]
  },
  {
   "cell_type": "code",
   "execution_count": 12,
   "metadata": {},
   "outputs": [
    {
     "data": {
      "text/html": [
       "<div>\n",
       "<style scoped>\n",
       "    .dataframe tbody tr th:only-of-type {\n",
       "        vertical-align: middle;\n",
       "    }\n",
       "\n",
       "    .dataframe tbody tr th {\n",
       "        vertical-align: top;\n",
       "    }\n",
       "\n",
       "    .dataframe thead th {\n",
       "        text-align: right;\n",
       "    }\n",
       "</style>\n",
       "<table border=\"1\" class=\"dataframe\">\n",
       "  <thead>\n",
       "    <tr style=\"text-align: right;\">\n",
       "      <th></th>\n",
       "      <th>features</th>\n",
       "    </tr>\n",
       "  </thead>\n",
       "  <tbody>\n",
       "    <tr>\n",
       "      <th>0</th>\n",
       "      <td>{'candidate': {'first_name': 'Margaret', 'last...</td>\n",
       "    </tr>\n",
       "    <tr>\n",
       "      <th>1</th>\n",
       "      <td>{'candidate': {'first_name': 'Michael', 'last_...</td>\n",
       "    </tr>\n",
       "    <tr>\n",
       "      <th>2</th>\n",
       "      <td>{'candidate': {'first_name': 'Brenda', 'last_n...</td>\n",
       "    </tr>\n",
       "    <tr>\n",
       "      <th>3</th>\n",
       "      <td>{'candidate': {'first_name': 'Joseph', 'last_n...</td>\n",
       "    </tr>\n",
       "    <tr>\n",
       "      <th>4</th>\n",
       "      <td>{'candidate': {'first_name': 'Laura', 'last_na...</td>\n",
       "    </tr>\n",
       "  </tbody>\n",
       "</table>\n",
       "</div>"
      ],
      "text/plain": [
       "                                            features\n",
       "0  {'candidate': {'first_name': 'Margaret', 'last...\n",
       "1  {'candidate': {'first_name': 'Michael', 'last_...\n",
       "2  {'candidate': {'first_name': 'Brenda', 'last_n...\n",
       "3  {'candidate': {'first_name': 'Joseph', 'last_n...\n",
       "4  {'candidate': {'first_name': 'Laura', 'last_na..."
      ]
     },
     "execution_count": 12,
     "metadata": {},
     "output_type": "execute_result"
    }
   ],
   "source": [
    "# Our Nested Data: What do we do with this?\n",
    "\n",
    "# ¯\\_(ツ)_/¯\n",
    "\n",
    "pd.read_json(\"employee_data.json\").head()"
   ]
  },
  {
   "cell_type": "code",
   "execution_count": 13,
   "metadata": {},
   "outputs": [
    {
     "data": {
      "text/html": [
       "<div>\n",
       "<style scoped>\n",
       "    .dataframe tbody tr th:only-of-type {\n",
       "        vertical-align: middle;\n",
       "    }\n",
       "\n",
       "    .dataframe tbody tr th {\n",
       "        vertical-align: top;\n",
       "    }\n",
       "\n",
       "    .dataframe thead th {\n",
       "        text-align: right;\n",
       "    }\n",
       "</style>\n",
       "<table border=\"1\" class=\"dataframe\">\n",
       "  <thead>\n",
       "    <tr style=\"text-align: right;\">\n",
       "      <th></th>\n",
       "      <th>features</th>\n",
       "    </tr>\n",
       "  </thead>\n",
       "  <tbody>\n",
       "    <tr>\n",
       "      <th>0</th>\n",
       "      <td>{'candidate': {'first_name': 'Margaret', 'last...</td>\n",
       "    </tr>\n",
       "    <tr>\n",
       "      <th>1</th>\n",
       "      <td>{'candidate': {'first_name': 'Michael', 'last_...</td>\n",
       "    </tr>\n",
       "    <tr>\n",
       "      <th>2</th>\n",
       "      <td>{'candidate': {'first_name': 'Brenda', 'last_n...</td>\n",
       "    </tr>\n",
       "    <tr>\n",
       "      <th>3</th>\n",
       "      <td>{'candidate': {'first_name': 'Joseph', 'last_n...</td>\n",
       "    </tr>\n",
       "    <tr>\n",
       "      <th>4</th>\n",
       "      <td>{'candidate': {'first_name': 'Laura', 'last_na...</td>\n",
       "    </tr>\n",
       "  </tbody>\n",
       "</table>\n",
       "</div>"
      ],
      "text/plain": [
       "                                            features\n",
       "0  {'candidate': {'first_name': 'Margaret', 'last...\n",
       "1  {'candidate': {'first_name': 'Michael', 'last_...\n",
       "2  {'candidate': {'first_name': 'Brenda', 'last_n...\n",
       "3  {'candidate': {'first_name': 'Joseph', 'last_n...\n",
       "4  {'candidate': {'first_name': 'Laura', 'last_na..."
      ]
     },
     "execution_count": 13,
     "metadata": {},
     "output_type": "execute_result"
    }
   ],
   "source": [
    "with open('employee_data.json') as datafile:\n",
    "    for line in datafile:\n",
    "        data = json.loads(line)\n",
    "    ww=pd.DataFrame(data)\n",
    "ww.head()"
   ]
  },
  {
   "cell_type": "markdown",
   "metadata": {},
   "source": [
    "# Four Ways to Convert Nested JSON to Data Frame:\n",
    "\n",
    "+ First Use: `pandas.read_json` then you have two options:\n",
    "\n",
    "    + *1<sup> st</sup> :* convert data type, then create a new data frame\n",
    "\n",
    "    + *2<sup> nd</sup> :* use `pandas.json_normalize` directly.\n",
    "    \n",
    "    + *3<sup> rd</sup> :* iterate and enter nested outer to inner\n",
    "    \n",
    "    + *4<sup> th</sup> :* list comprehension"
   ]
  },
  {
   "cell_type": "markdown",
   "metadata": {},
   "source": [
    "# 1 ) read_json "
   ]
  },
  {
   "cell_type": "code",
   "execution_count": 15,
   "metadata": {},
   "outputs": [
    {
     "data": {
      "text/html": [
       "<div>\n",
       "<style scoped>\n",
       "    .dataframe tbody tr th:only-of-type {\n",
       "        vertical-align: middle;\n",
       "    }\n",
       "\n",
       "    .dataframe tbody tr th {\n",
       "        vertical-align: top;\n",
       "    }\n",
       "\n",
       "    .dataframe thead th {\n",
       "        text-align: right;\n",
       "    }\n",
       "</style>\n",
       "<table border=\"1\" class=\"dataframe\">\n",
       "  <thead>\n",
       "    <tr style=\"text-align: right;\">\n",
       "      <th></th>\n",
       "      <th>first_name</th>\n",
       "      <th>last_name</th>\n",
       "      <th>skills</th>\n",
       "      <th>state</th>\n",
       "      <th>specialty</th>\n",
       "      <th>experience</th>\n",
       "      <th>relocation</th>\n",
       "    </tr>\n",
       "  </thead>\n",
       "  <tbody>\n",
       "    <tr>\n",
       "      <th>0</th>\n",
       "      <td>Margaret</td>\n",
       "      <td>Mcdonald</td>\n",
       "      <td>[skLearn, Java, R, SQL, Spark, C++]</td>\n",
       "      <td>AL</td>\n",
       "      <td>Database</td>\n",
       "      <td>Mid</td>\n",
       "      <td>no</td>\n",
       "    </tr>\n",
       "    <tr>\n",
       "      <th>1</th>\n",
       "      <td>Michael</td>\n",
       "      <td>Carter</td>\n",
       "      <td>[TensorFlow, R, Spark, MongoDB, C++, SQL]</td>\n",
       "      <td>AR</td>\n",
       "      <td>Statistics</td>\n",
       "      <td>Senior</td>\n",
       "      <td>yes</td>\n",
       "    </tr>\n",
       "    <tr>\n",
       "      <th>2</th>\n",
       "      <td>Brenda</td>\n",
       "      <td>Tyler</td>\n",
       "      <td>[Spark]</td>\n",
       "      <td>UT</td>\n",
       "      <td>Database</td>\n",
       "      <td>Mid</td>\n",
       "      <td>no</td>\n",
       "    </tr>\n",
       "    <tr>\n",
       "      <th>3</th>\n",
       "      <td>Joseph</td>\n",
       "      <td>King</td>\n",
       "      <td>[skLearn, SQL, R, Spark, Java, C++, Python, Te...</td>\n",
       "      <td>FL</td>\n",
       "      <td>Machine Learning</td>\n",
       "      <td>Senior</td>\n",
       "      <td>maybe</td>\n",
       "    </tr>\n",
       "    <tr>\n",
       "      <th>4</th>\n",
       "      <td>Laura</td>\n",
       "      <td>Webb</td>\n",
       "      <td>[TensorFlow, C++, SQL, Java, R, MongoDB]</td>\n",
       "      <td>WY</td>\n",
       "      <td>Machine Learning</td>\n",
       "      <td>Junior</td>\n",
       "      <td>maybe</td>\n",
       "    </tr>\n",
       "  </tbody>\n",
       "</table>\n",
       "</div>"
      ],
      "text/plain": [
       "  first_name last_name                                             skills  \\\n",
       "0   Margaret  Mcdonald                [skLearn, Java, R, SQL, Spark, C++]   \n",
       "1    Michael    Carter          [TensorFlow, R, Spark, MongoDB, C++, SQL]   \n",
       "2     Brenda     Tyler                                            [Spark]   \n",
       "3     Joseph      King  [skLearn, SQL, R, Spark, Java, C++, Python, Te...   \n",
       "4      Laura      Webb           [TensorFlow, C++, SQL, Java, R, MongoDB]   \n",
       "\n",
       "  state         specialty experience relocation  \n",
       "0    AL          Database        Mid         no  \n",
       "1    AR        Statistics     Senior        yes  \n",
       "2    UT          Database        Mid         no  \n",
       "3    FL  Machine Learning     Senior      maybe  \n",
       "4    WY  Machine Learning     Junior      maybe  "
      ]
     },
     "execution_count": 15,
     "metadata": {},
     "output_type": "execute_result"
    }
   ],
   "source": [
    "df = pd.read_json(\"employee_data.json\")\n",
    "\n",
    "bn=pd.DataFrame(df.features.values.tolist())['candidate']\n",
    "\n",
    "pd.DataFrame.from_records(bn).head()\n",
    "\n"
   ]
  },
  {
   "cell_type": "markdown",
   "metadata": {},
   "source": [
    "# 2 ) json_normalize:\n",
    "\n",
    "+ Takes somewhat strucured (json) data as input and returns a `flat table`"
   ]
  },
  {
   "cell_type": "code",
   "execution_count": 16,
   "metadata": {},
   "outputs": [
    {
     "data": {
      "text/html": [
       "<div>\n",
       "<style scoped>\n",
       "    .dataframe tbody tr th:only-of-type {\n",
       "        vertical-align: middle;\n",
       "    }\n",
       "\n",
       "    .dataframe tbody tr th {\n",
       "        vertical-align: top;\n",
       "    }\n",
       "\n",
       "    .dataframe thead th {\n",
       "        text-align: right;\n",
       "    }\n",
       "</style>\n",
       "<table border=\"1\" class=\"dataframe\">\n",
       "  <thead>\n",
       "    <tr style=\"text-align: right;\">\n",
       "      <th></th>\n",
       "      <th>first_name</th>\n",
       "      <th>last_name</th>\n",
       "      <th>skills</th>\n",
       "      <th>state</th>\n",
       "      <th>specialty</th>\n",
       "      <th>experience</th>\n",
       "      <th>relocation</th>\n",
       "    </tr>\n",
       "  </thead>\n",
       "  <tbody>\n",
       "    <tr>\n",
       "      <th>0</th>\n",
       "      <td>Margaret</td>\n",
       "      <td>Mcdonald</td>\n",
       "      <td>[skLearn, Java, R, SQL, Spark, C++]</td>\n",
       "      <td>AL</td>\n",
       "      <td>Database</td>\n",
       "      <td>Mid</td>\n",
       "      <td>no</td>\n",
       "    </tr>\n",
       "    <tr>\n",
       "      <th>1</th>\n",
       "      <td>Michael</td>\n",
       "      <td>Carter</td>\n",
       "      <td>[TensorFlow, R, Spark, MongoDB, C++, SQL]</td>\n",
       "      <td>AR</td>\n",
       "      <td>Statistics</td>\n",
       "      <td>Senior</td>\n",
       "      <td>yes</td>\n",
       "    </tr>\n",
       "    <tr>\n",
       "      <th>2</th>\n",
       "      <td>Brenda</td>\n",
       "      <td>Tyler</td>\n",
       "      <td>[Spark]</td>\n",
       "      <td>UT</td>\n",
       "      <td>Database</td>\n",
       "      <td>Mid</td>\n",
       "      <td>no</td>\n",
       "    </tr>\n",
       "    <tr>\n",
       "      <th>3</th>\n",
       "      <td>Joseph</td>\n",
       "      <td>King</td>\n",
       "      <td>[skLearn, SQL, R, Spark, Java, C++, Python, Te...</td>\n",
       "      <td>FL</td>\n",
       "      <td>Machine Learning</td>\n",
       "      <td>Senior</td>\n",
       "      <td>maybe</td>\n",
       "    </tr>\n",
       "    <tr>\n",
       "      <th>4</th>\n",
       "      <td>Laura</td>\n",
       "      <td>Webb</td>\n",
       "      <td>[TensorFlow, C++, SQL, Java, R, MongoDB]</td>\n",
       "      <td>WY</td>\n",
       "      <td>Machine Learning</td>\n",
       "      <td>Junior</td>\n",
       "      <td>maybe</td>\n",
       "    </tr>\n",
       "  </tbody>\n",
       "</table>\n",
       "</div>"
      ],
      "text/plain": [
       "  first_name last_name                                             skills  \\\n",
       "0   Margaret  Mcdonald                [skLearn, Java, R, SQL, Spark, C++]   \n",
       "1    Michael    Carter          [TensorFlow, R, Spark, MongoDB, C++, SQL]   \n",
       "2     Brenda     Tyler                                            [Spark]   \n",
       "3     Joseph      King  [skLearn, SQL, R, Spark, Java, C++, Python, Te...   \n",
       "4      Laura      Webb           [TensorFlow, C++, SQL, Java, R, MongoDB]   \n",
       "\n",
       "  state         specialty experience relocation  \n",
       "0    AL          Database        Mid         no  \n",
       "1    AR        Statistics     Senior        yes  \n",
       "2    UT          Database        Mid         no  \n",
       "3    FL  Machine Learning     Senior      maybe  \n",
       "4    WY  Machine Learning     Junior      maybe  "
      ]
     },
     "execution_count": 16,
     "metadata": {},
     "output_type": "execute_result"
    }
   ],
   "source": [
    "df = pd.read_json(\"employee_data.json\")\n",
    "\n",
    "bn=pd.DataFrame(df.features.values.tolist())['candidate']\n",
    "\n",
    "pd.json_normalize(bn).head()"
   ]
  },
  {
   "cell_type": "markdown",
   "metadata": {},
   "source": [
    "# 3 ) Iterate:"
   ]
  },
  {
   "cell_type": "code",
   "execution_count": 39,
   "metadata": {},
   "outputs": [
    {
     "data": {
      "text/html": [
       "<div>\n",
       "<style scoped>\n",
       "    .dataframe tbody tr th:only-of-type {\n",
       "        vertical-align: middle;\n",
       "    }\n",
       "\n",
       "    .dataframe tbody tr th {\n",
       "        vertical-align: top;\n",
       "    }\n",
       "\n",
       "    .dataframe thead th {\n",
       "        text-align: right;\n",
       "    }\n",
       "</style>\n",
       "<table border=\"1\" class=\"dataframe\">\n",
       "  <thead>\n",
       "    <tr style=\"text-align: right;\">\n",
       "      <th></th>\n",
       "      <th>first_name</th>\n",
       "      <th>last_name</th>\n",
       "      <th>skills</th>\n",
       "      <th>state</th>\n",
       "      <th>specialty</th>\n",
       "      <th>experience</th>\n",
       "      <th>relocation</th>\n",
       "    </tr>\n",
       "  </thead>\n",
       "  <tbody>\n",
       "    <tr>\n",
       "      <th>0</th>\n",
       "      <td>Margaret</td>\n",
       "      <td>Mcdonald</td>\n",
       "      <td>[skLearn, Java, R, SQL, Spark, C++]</td>\n",
       "      <td>AL</td>\n",
       "      <td>Database</td>\n",
       "      <td>Mid</td>\n",
       "      <td>no</td>\n",
       "    </tr>\n",
       "    <tr>\n",
       "      <th>1</th>\n",
       "      <td>Michael</td>\n",
       "      <td>Carter</td>\n",
       "      <td>[TensorFlow, R, Spark, MongoDB, C++, SQL]</td>\n",
       "      <td>AR</td>\n",
       "      <td>Statistics</td>\n",
       "      <td>Senior</td>\n",
       "      <td>yes</td>\n",
       "    </tr>\n",
       "    <tr>\n",
       "      <th>2</th>\n",
       "      <td>Brenda</td>\n",
       "      <td>Tyler</td>\n",
       "      <td>[Spark]</td>\n",
       "      <td>UT</td>\n",
       "      <td>Database</td>\n",
       "      <td>Mid</td>\n",
       "      <td>no</td>\n",
       "    </tr>\n",
       "    <tr>\n",
       "      <th>3</th>\n",
       "      <td>Joseph</td>\n",
       "      <td>King</td>\n",
       "      <td>[skLearn, SQL, R, Spark, Java, C++, Python, Te...</td>\n",
       "      <td>FL</td>\n",
       "      <td>Machine Learning</td>\n",
       "      <td>Senior</td>\n",
       "      <td>maybe</td>\n",
       "    </tr>\n",
       "    <tr>\n",
       "      <th>4</th>\n",
       "      <td>Laura</td>\n",
       "      <td>Webb</td>\n",
       "      <td>[TensorFlow, C++, SQL, Java, R, MongoDB]</td>\n",
       "      <td>WY</td>\n",
       "      <td>Machine Learning</td>\n",
       "      <td>Junior</td>\n",
       "      <td>maybe</td>\n",
       "    </tr>\n",
       "  </tbody>\n",
       "</table>\n",
       "</div>"
      ],
      "text/plain": [
       "  first_name last_name                                             skills  \\\n",
       "0   Margaret  Mcdonald                [skLearn, Java, R, SQL, Spark, C++]   \n",
       "1    Michael    Carter          [TensorFlow, R, Spark, MongoDB, C++, SQL]   \n",
       "2     Brenda     Tyler                                            [Spark]   \n",
       "3     Joseph      King  [skLearn, SQL, R, Spark, Java, C++, Python, Te...   \n",
       "4      Laura      Webb           [TensorFlow, C++, SQL, Java, R, MongoDB]   \n",
       "\n",
       "  state         specialty experience relocation  \n",
       "0    AL          Database        Mid         no  \n",
       "1    AR        Statistics     Senior        yes  \n",
       "2    UT          Database        Mid         no  \n",
       "3    FL  Machine Learning     Senior      maybe  \n",
       "4    WY  Machine Learning     Junior      maybe  "
      ]
     },
     "execution_count": 39,
     "metadata": {},
     "output_type": "execute_result"
    }
   ],
   "source": [
    "f=[]\n",
    "for i in data['features']:\n",
    "    f.append(i['candidate'])\n",
    "\n",
    "pd.DataFrame(f).head()"
   ]
  },
  {
   "cell_type": "markdown",
   "metadata": {},
   "source": [
    "# 4 ) List Comprehension:"
   ]
  },
  {
   "cell_type": "code",
   "execution_count": 40,
   "metadata": {},
   "outputs": [
    {
     "data": {
      "text/html": [
       "<div>\n",
       "<style scoped>\n",
       "    .dataframe tbody tr th:only-of-type {\n",
       "        vertical-align: middle;\n",
       "    }\n",
       "\n",
       "    .dataframe tbody tr th {\n",
       "        vertical-align: top;\n",
       "    }\n",
       "\n",
       "    .dataframe thead th {\n",
       "        text-align: right;\n",
       "    }\n",
       "</style>\n",
       "<table border=\"1\" class=\"dataframe\">\n",
       "  <thead>\n",
       "    <tr style=\"text-align: right;\">\n",
       "      <th></th>\n",
       "      <th>first_name</th>\n",
       "      <th>last_name</th>\n",
       "      <th>skills</th>\n",
       "      <th>state</th>\n",
       "      <th>specialty</th>\n",
       "      <th>experience</th>\n",
       "      <th>relocation</th>\n",
       "    </tr>\n",
       "  </thead>\n",
       "  <tbody>\n",
       "    <tr>\n",
       "      <th>0</th>\n",
       "      <td>Margaret</td>\n",
       "      <td>Mcdonald</td>\n",
       "      <td>[skLearn, Java, R, SQL, Spark, C++]</td>\n",
       "      <td>AL</td>\n",
       "      <td>Database</td>\n",
       "      <td>Mid</td>\n",
       "      <td>no</td>\n",
       "    </tr>\n",
       "    <tr>\n",
       "      <th>1</th>\n",
       "      <td>Michael</td>\n",
       "      <td>Carter</td>\n",
       "      <td>[TensorFlow, R, Spark, MongoDB, C++, SQL]</td>\n",
       "      <td>AR</td>\n",
       "      <td>Statistics</td>\n",
       "      <td>Senior</td>\n",
       "      <td>yes</td>\n",
       "    </tr>\n",
       "    <tr>\n",
       "      <th>2</th>\n",
       "      <td>Brenda</td>\n",
       "      <td>Tyler</td>\n",
       "      <td>[Spark]</td>\n",
       "      <td>UT</td>\n",
       "      <td>Database</td>\n",
       "      <td>Mid</td>\n",
       "      <td>no</td>\n",
       "    </tr>\n",
       "    <tr>\n",
       "      <th>3</th>\n",
       "      <td>Joseph</td>\n",
       "      <td>King</td>\n",
       "      <td>[skLearn, SQL, R, Spark, Java, C++, Python, Te...</td>\n",
       "      <td>FL</td>\n",
       "      <td>Machine Learning</td>\n",
       "      <td>Senior</td>\n",
       "      <td>maybe</td>\n",
       "    </tr>\n",
       "    <tr>\n",
       "      <th>4</th>\n",
       "      <td>Laura</td>\n",
       "      <td>Webb</td>\n",
       "      <td>[TensorFlow, C++, SQL, Java, R, MongoDB]</td>\n",
       "      <td>WY</td>\n",
       "      <td>Machine Learning</td>\n",
       "      <td>Junior</td>\n",
       "      <td>maybe</td>\n",
       "    </tr>\n",
       "  </tbody>\n",
       "</table>\n",
       "</div>"
      ],
      "text/plain": [
       "  first_name last_name                                             skills  \\\n",
       "0   Margaret  Mcdonald                [skLearn, Java, R, SQL, Spark, C++]   \n",
       "1    Michael    Carter          [TensorFlow, R, Spark, MongoDB, C++, SQL]   \n",
       "2     Brenda     Tyler                                            [Spark]   \n",
       "3     Joseph      King  [skLearn, SQL, R, Spark, Java, C++, Python, Te...   \n",
       "4      Laura      Webb           [TensorFlow, C++, SQL, Java, R, MongoDB]   \n",
       "\n",
       "  state         specialty experience relocation  \n",
       "0    AL          Database        Mid         no  \n",
       "1    AR        Statistics     Senior        yes  \n",
       "2    UT          Database        Mid         no  \n",
       "3    FL  Machine Learning     Senior      maybe  \n",
       "4    WY  Machine Learning     Junior      maybe  "
      ]
     },
     "execution_count": 40,
     "metadata": {},
     "output_type": "execute_result"
    }
   ],
   "source": [
    "# Nested List Comprehension to flatten a given 2-D matrix \n",
    "\n",
    "tt=[val for sublist in data['features'] for val in sublist.values() ]\n",
    "pd.DataFrame(tt).head()\n"
   ]
  },
  {
   "cell_type": "markdown",
   "metadata": {},
   "source": [
    "# `Create New Data frame that will be used to update our nested JSON object`\n"
   ]
  },
  {
   "cell_type": "code",
   "execution_count": 20,
   "metadata": {},
   "outputs": [
    {
     "data": {
      "text/plain": [
       "[datetime.date(2018, 4, 10), datetime.date(2013, 9, 9)]"
      ]
     },
     "execution_count": 20,
     "metadata": {},
     "output_type": "execute_result"
    }
   ],
   "source": [
    "# Create List of fake hire dates:\n",
    "fake_data=Faker()\n",
    "\n",
    "fake_data.seed(10)\n",
    "\n",
    "hire_dates=[]\n",
    "\n",
    "for _ in range(len(tt)):\n",
    "    hire_dates.append(fake_data.date_between(start_date='-7y', end_date='today'))\n",
    "\n",
    "hire_dates[:2]"
   ]
  },
  {
   "cell_type": "code",
   "execution_count": 21,
   "metadata": {},
   "outputs": [],
   "source": [
    "# Work Status: FT/PT/Contract\n",
    "# import numpy as np\n",
    "work_status=['FT','PT','Contract']\n",
    "\n",
    "\n",
    "worker_emp_status=np.random.choice(work_status,size=len(tt),replace=True)\n",
    "# len(worker_emp_status)"
   ]
  },
  {
   "cell_type": "code",
   "execution_count": 22,
   "metadata": {},
   "outputs": [
    {
     "data": {
      "text/plain": [
       "array([129784, 176911,  88253, 116101])"
      ]
     },
     "execution_count": 22,
     "metadata": {},
     "output_type": "execute_result"
    }
   ],
   "source": [
    "# Salary:\n",
    "\n",
    "Salary=np.random.randint(75000,230000,size=len(tt))\n",
    "Salary[:4]"
   ]
  },
  {
   "cell_type": "code",
   "execution_count": 23,
   "metadata": {},
   "outputs": [
    {
     "data": {
      "text/plain": [
       "array(['yes', 'no', 'yes'], dtype='<U3')"
      ]
     },
     "execution_count": 23,
     "metadata": {},
     "output_type": "execute_result"
    }
   ],
   "source": [
    "# Does person have healthcare coverage?:\n",
    "healthcare=['yes','no']\n",
    "\n",
    "healthcare_elig=np.random.choice(healthcare,size=len(tt),replace=True)\n",
    "healthcare_elig[:3]"
   ]
  },
  {
   "cell_type": "code",
   "execution_count": 49,
   "metadata": {},
   "outputs": [],
   "source": [
    "HR_df=pd.DataFrame(np.stack([hire_dates,Salary,healthcare_elig],axis=1),\n",
    "                   columns=['hire_date','Salary','healthcare'])\n",
    "\n",
    "HR_df.head()\n",
    "\n",
    "HR_df.to_csv('HR_CSV', index = False)"
   ]
  },
  {
   "cell_type": "markdown",
   "metadata": {},
   "source": [
    "# Combine data frames and insert new data:\n"
   ]
  },
  {
   "cell_type": "code",
   "execution_count": 43,
   "metadata": {},
   "outputs": [
    {
     "data": {
      "text/html": [
       "<div>\n",
       "<style scoped>\n",
       "    .dataframe tbody tr th:only-of-type {\n",
       "        vertical-align: middle;\n",
       "    }\n",
       "\n",
       "    .dataframe tbody tr th {\n",
       "        vertical-align: top;\n",
       "    }\n",
       "\n",
       "    .dataframe thead th {\n",
       "        text-align: right;\n",
       "    }\n",
       "</style>\n",
       "<table border=\"1\" class=\"dataframe\">\n",
       "  <thead>\n",
       "    <tr style=\"text-align: right;\">\n",
       "      <th></th>\n",
       "      <th>first_name</th>\n",
       "      <th>last_name</th>\n",
       "      <th>skills</th>\n",
       "      <th>state</th>\n",
       "      <th>specialty</th>\n",
       "      <th>experience</th>\n",
       "      <th>relocation</th>\n",
       "      <th>hire_date</th>\n",
       "      <th>Salary</th>\n",
       "      <th>healthcare</th>\n",
       "    </tr>\n",
       "  </thead>\n",
       "  <tbody>\n",
       "    <tr>\n",
       "      <th>0</th>\n",
       "      <td>Margaret</td>\n",
       "      <td>Mcdonald</td>\n",
       "      <td>[skLearn, Java, R, SQL, Spark, C++]</td>\n",
       "      <td>AL</td>\n",
       "      <td>Database</td>\n",
       "      <td>Mid</td>\n",
       "      <td>no</td>\n",
       "      <td>2018-04-10</td>\n",
       "      <td>129784</td>\n",
       "      <td>yes</td>\n",
       "    </tr>\n",
       "    <tr>\n",
       "      <th>1</th>\n",
       "      <td>Michael</td>\n",
       "      <td>Carter</td>\n",
       "      <td>[TensorFlow, R, Spark, MongoDB, C++, SQL]</td>\n",
       "      <td>AR</td>\n",
       "      <td>Statistics</td>\n",
       "      <td>Senior</td>\n",
       "      <td>yes</td>\n",
       "      <td>2013-09-09</td>\n",
       "      <td>176911</td>\n",
       "      <td>no</td>\n",
       "    </tr>\n",
       "    <tr>\n",
       "      <th>2</th>\n",
       "      <td>Brenda</td>\n",
       "      <td>Tyler</td>\n",
       "      <td>[Spark]</td>\n",
       "      <td>UT</td>\n",
       "      <td>Database</td>\n",
       "      <td>Mid</td>\n",
       "      <td>no</td>\n",
       "      <td>2017-01-22</td>\n",
       "      <td>88253</td>\n",
       "      <td>yes</td>\n",
       "    </tr>\n",
       "    <tr>\n",
       "      <th>3</th>\n",
       "      <td>Joseph</td>\n",
       "      <td>King</td>\n",
       "      <td>[skLearn, SQL, R, Spark, Java, C++, Python, Te...</td>\n",
       "      <td>FL</td>\n",
       "      <td>Machine Learning</td>\n",
       "      <td>Senior</td>\n",
       "      <td>maybe</td>\n",
       "      <td>2017-07-08</td>\n",
       "      <td>116101</td>\n",
       "      <td>yes</td>\n",
       "    </tr>\n",
       "    <tr>\n",
       "      <th>4</th>\n",
       "      <td>Laura</td>\n",
       "      <td>Webb</td>\n",
       "      <td>[TensorFlow, C++, SQL, Java, R, MongoDB]</td>\n",
       "      <td>WY</td>\n",
       "      <td>Machine Learning</td>\n",
       "      <td>Junior</td>\n",
       "      <td>maybe</td>\n",
       "      <td>2018-05-01</td>\n",
       "      <td>96059</td>\n",
       "      <td>no</td>\n",
       "    </tr>\n",
       "  </tbody>\n",
       "</table>\n",
       "</div>"
      ],
      "text/plain": [
       "  first_name last_name                                             skills  \\\n",
       "0   Margaret  Mcdonald                [skLearn, Java, R, SQL, Spark, C++]   \n",
       "1    Michael    Carter          [TensorFlow, R, Spark, MongoDB, C++, SQL]   \n",
       "2     Brenda     Tyler                                            [Spark]   \n",
       "3     Joseph      King  [skLearn, SQL, R, Spark, Java, C++, Python, Te...   \n",
       "4      Laura      Webb           [TensorFlow, C++, SQL, Java, R, MongoDB]   \n",
       "\n",
       "  state         specialty experience relocation   hire_date  Salary healthcare  \n",
       "0    AL          Database        Mid         no  2018-04-10  129784        yes  \n",
       "1    AR        Statistics     Senior        yes  2013-09-09  176911         no  \n",
       "2    UT          Database        Mid         no  2017-01-22   88253        yes  \n",
       "3    FL  Machine Learning     Senior      maybe  2017-07-08  116101        yes  \n",
       "4    WY  Machine Learning     Junior      maybe  2018-05-01   96059         no  "
      ]
     },
     "execution_count": 43,
     "metadata": {},
     "output_type": "execute_result"
    }
   ],
   "source": [
    "df_update=pd.concat([pd.DataFrame(tt),HR_df],axis=1)\n",
    "df_update.head()"
   ]
  },
  {
   "cell_type": "markdown",
   "metadata": {},
   "source": [
    "# `Now UPDATE OUR NESTED JSON Object, with Human Resources Data Frame:`\n",
    "\n",
    "**ThIs Will Create a `New Nested` Object inside**"
   ]
  },
  {
   "cell_type": "code",
   "execution_count": 44,
   "metadata": {},
   "outputs": [],
   "source": [
    "def df_to_nested_json(df, candidate, hire='hire_date',\n",
    "                      salary='Salary',healthcare='healthcare'):\n",
    "    _json = {'features':[]}\n",
    "    \n",
    "    for _, row in df.iterrows():\n",
    "        feature = {'candidate':{},\n",
    "                   'HR_related':{}} # New Nesting Creation here!\n",
    "        \n",
    "        #Nested Entries:\n",
    "        feature['HR_related']['hire_date'] = [row[hire]]\n",
    "        feature['HR_related']['Salary'] = [row[salary]]\n",
    "        feature['HR_related']['healthcare'] = [row[healthcare]]\n",
    "\n",
    "        for prop in candidate:\n",
    "            feature['candidate'][prop] = row[prop]\n",
    "        _json['features'].append(feature)\n",
    "    return _json\n",
    "\n",
    "\n",
    "cols=pd.DataFrame(tt).columns\n",
    "\n",
    "people_json=df_to_nested_json(df_update, cols)\n"
   ]
  },
  {
   "cell_type": "code",
   "execution_count": 27,
   "metadata": {},
   "outputs": [
    {
     "data": {
      "text/plain": [
       "[{'candidate': {'first_name': 'Margaret',\n",
       "   'last_name': 'Mcdonald',\n",
       "   'skills': ['skLearn', 'Java', 'R', 'SQL', 'Spark', 'C++'],\n",
       "   'state': 'AL',\n",
       "   'specialty': 'Database',\n",
       "   'experience': 'Mid',\n",
       "   'relocation': 'no'},\n",
       "  'HR_related': {'hire_date': [datetime.date(2018, 4, 10)],\n",
       "   'Salary': [129784],\n",
       "   'healthcare': ['yes']}},\n",
       " {'candidate': {'first_name': 'Michael',\n",
       "   'last_name': 'Carter',\n",
       "   'skills': ['TensorFlow', 'R', 'Spark', 'MongoDB', 'C++', 'SQL'],\n",
       "   'state': 'AR',\n",
       "   'specialty': 'Statistics',\n",
       "   'experience': 'Senior',\n",
       "   'relocation': 'yes'},\n",
       "  'HR_related': {'hire_date': [datetime.date(2013, 9, 9)],\n",
       "   'Salary': [176911],\n",
       "   'healthcare': ['no']}}]"
      ]
     },
     "execution_count": 27,
     "metadata": {},
     "output_type": "execute_result"
    }
   ],
   "source": [
    "people_json['features'][:2]"
   ]
  },
  {
   "cell_type": "markdown",
   "metadata": {},
   "source": [
    "# Other form of Updating our data:  with `new entries` \n",
    "\n",
    "+ `NON Nested` entry update"
   ]
  },
  {
   "cell_type": "code",
   "execution_count": 28,
   "metadata": {},
   "outputs": [],
   "source": [
    "def df_to_nested_json(df, candidate, lat='hire_date',lon='Salary',ll='healthcare'):\n",
    "    _json = {'features':[]}\n",
    "    \n",
    "    for _, row in df.iterrows():\n",
    "        feature = {'candidate':{}}\n",
    "\n",
    "        # NONE Nested Entries:\n",
    "        feature['candidate']['hire_date'] = [row[lat]]\n",
    "        feature['candidate']['Salary'] = [row[lon]]\n",
    "        feature['candidate']['healthcare'] = [row[ll]]\n",
    "\n",
    "        for prop in candidate:\n",
    "            feature['candidate'][prop] = row[prop]\n",
    "        _json['features'].append(feature)\n",
    "    return _json\n",
    "\n",
    "\n",
    "cols=pd.DataFrame(tt).columns\n",
    "\n",
    "people_json=df_to_nested_json(df_update, cols)\n"
   ]
  },
  {
   "cell_type": "code",
   "execution_count": 29,
   "metadata": {},
   "outputs": [
    {
     "data": {
      "text/plain": [
       "[{'candidate': {'hire_date': [datetime.date(2018, 4, 10)],\n",
       "   'Salary': [129784],\n",
       "   'healthcare': ['yes'],\n",
       "   'first_name': 'Margaret',\n",
       "   'last_name': 'Mcdonald',\n",
       "   'skills': ['skLearn', 'Java', 'R', 'SQL', 'Spark', 'C++'],\n",
       "   'state': 'AL',\n",
       "   'specialty': 'Database',\n",
       "   'experience': 'Mid',\n",
       "   'relocation': 'no'}},\n",
       " {'candidate': {'hire_date': [datetime.date(2013, 9, 9)],\n",
       "   'Salary': [176911],\n",
       "   'healthcare': ['no'],\n",
       "   'first_name': 'Michael',\n",
       "   'last_name': 'Carter',\n",
       "   'skills': ['TensorFlow', 'R', 'Spark', 'MongoDB', 'C++', 'SQL'],\n",
       "   'state': 'AR',\n",
       "   'specialty': 'Statistics',\n",
       "   'experience': 'Senior',\n",
       "   'relocation': 'yes'}}]"
      ]
     },
     "execution_count": 29,
     "metadata": {},
     "output_type": "execute_result"
    }
   ],
   "source": [
    "people_json['features'][:2]"
   ]
  },
  {
   "cell_type": "markdown",
   "metadata": {},
   "source": [
    "# Considerations: \n",
    " When you are looking into timing operations, you also need to consider memory management. There is a tradeoff between these and it is important when dealing with large data.\n",
    " "
   ]
  },
  {
   "cell_type": "code",
   "execution_count": 45,
   "metadata": {},
   "outputs": [
    {
     "name": "stdout",
     "output_type": "stream",
     "text": [
      "Notice the Differences:\n",
      "Using only pd.read_json() : 0.007957935333251953\n",
      "--------------------\n",
      "with open : 0.004159212112426758\n"
     ]
    }
   ],
   "source": [
    "# Ex.) Checking the Time it takes to call the file and read from pandas vs with open:\n",
    "\n",
    "print('Notice the Differences:')\n",
    "start = time.time()\n",
    "\n",
    "pd.read_json(\"employee_data.json\").head()\n",
    "# get time taken to run list comprehension\n",
    "elapsed_time_lc=(time.time()-start)\n",
    "print('Using only pd.read_json() :',elapsed_time_lc)\n",
    "print(20*'-')\n",
    "start = time.time()\n",
    "with open('employee_data.json') as datafile:\n",
    "    for line in datafile:\n",
    "        data = json.loads(line)\n",
    "    ww=pd.DataFrame(data)\n",
    "ww.head()\n",
    "# get time taken to run list comprehension\n",
    "elapsed_time_=(time.time()-start)\n",
    "print('with open :',elapsed_time_)\n"
   ]
  },
  {
   "cell_type": "markdown",
   "metadata": {},
   "source": [
    "# Citations:\n",
    "\n",
    "# ◔̯◔\n",
    "\n",
    "\n",
    "**JSON Related**:\n",
    "\n",
    "https://stackabuse.com/reading-and-writing-json-to-a-file-in-python/\n",
    "\n",
    "https://stackoverflow.com/questions/40588852/pandas-read-nested-json\n",
    "\n",
    "https://www.geeksforgeeks.org/nested-list-comprehensions-in-python/\n",
    "\n",
    "**Memory Usuage**: Future Tasks To Consider\n",
    "\n",
    "https://medium.com/survata-engineering-blog/monitoring-memory-usage-of-a-running-python-program-49f027e3d1ba\n",
    "\n",
    "https://towardsdatascience.com/memory-management-in-python-6bea0c8aecc9"
   ]
  }
 ],
 "metadata": {
  "kernelspec": {
   "display_name": "Python 3",
   "language": "python",
   "name": "python3"
  },
  "language_info": {
   "codemirror_mode": {
    "name": "ipython",
    "version": 3
   },
   "file_extension": ".py",
   "mimetype": "text/x-python",
   "name": "python",
   "nbconvert_exporter": "python",
   "pygments_lexer": "ipython3",
   "version": "3.7.3"
  }
 },
 "nbformat": 4,
 "nbformat_minor": 4
}
